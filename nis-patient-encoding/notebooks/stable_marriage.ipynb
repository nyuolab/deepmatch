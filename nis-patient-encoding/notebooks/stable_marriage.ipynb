{
 "cells": [
  {
   "cell_type": "code",
   "execution_count": 9,
   "metadata": {
    "collapsed": true,
    "jupyter": {
     "outputs_hidden": true
    }
   },
   "outputs": [],
   "source": [
    "import unittest"
   ]
  },
  {
   "cell_type": "code",
   "execution_count": 10,
   "metadata": {
    "collapsed": true,
    "jupyter": {
     "outputs_hidden": true
    }
   },
   "outputs": [],
   "source": [
    "def load_data(n = None):\n",
    "    # Default dataset\n",
    "    males = {'0': ['7', '5', '6', '4'],\n",
    "             '1': ['5', '4', '6', '7'],\n",
    "             '2': ['4', '5', '6', '7'],\n",
    "             '3': ['4', '5', '6', '7']}\n",
    "\n",
    "    females = {'4': ['0', '1', '2', '3'],\n",
    "               '5': ['0', '1', '2', '3'],\n",
    "               '6': ['0', '1', '2', '3'],\n",
    "               '7': ['0', '1', '2', '3']}\n",
    "\n",
    "    # Dataset 1\n",
    "    if n == 0:\n",
    "        males = {'k': ['b', 'c', 'a'],\n",
    "                 'l': ['a', 'c', 'b'],\n",
    "                 'm': ['a', 'b', 'c']}\n",
    "\n",
    "        females = {'a': ['k', 'l', 'm'],\n",
    "                   'b': ['l', 'm', 'k'],\n",
    "                   'c': ['m', 'l', 'k']}            \n",
    "    return males, females"
   ]
  },
  {
   "cell_type": "code",
   "execution_count": 11,
   "metadata": {
    "collapsed": false,
    "jupyter": {
     "outputs_hidden": false
    }
   },
   "outputs": [
    {
     "name": "stderr",
     "output_type": "stream",
     "text": [
      "....\n",
      "----------------------------------------------------------------------\n",
      "Ran 4 tests in 0.004s\n",
      "\n",
      "OK\n"
     ]
    }
   ],
   "source": [
    "def is_empty(n):\n",
    "    return len(n) == 0\n",
    "\n",
    "class StableMarriageTestCase(unittest.TestCase):\n",
    "    males_1 = {'0': ['7', '5', '6', '4'],\n",
    "        '1': ['5', '4', '6', '7'],\n",
    "        '2': ['4', '5', '6', '7'],\n",
    "        '3': ['4', '5', '6', '7']}\n",
    "\n",
    "    females_1 = {'4': ['0', '1', '2', '3'],\n",
    "          '5': ['0', '1', '2', '3'],\n",
    "          '6': ['0', '1', '2', '3'],\n",
    "          '7': ['0', '1', '2', '3']}\n",
    "\n",
    "    males_2 = {'k': ['b', 'c', 'a'],\n",
    "            'l': ['a', 'c', 'b'],\n",
    "            'm': ['a', 'b', 'c']}\n",
    "\n",
    "    females_2 = {'a': ['k', 'l', 'm'],\n",
    "              'b': ['l', 'm', 'k'],\n",
    "              'c': ['m', 'l', 'k']}   \n",
    "    \n",
    "    def test_load_default_data(self):\n",
    "        males, females = load_data()\n",
    "        self.assertEqual(males, self.males_1)\n",
    "        self.assertEqual(females, self.females_1)\n",
    "\n",
    "    def test_load_data(self):\n",
    "        males, females = load_data(0)\n",
    "        self.assertEqual(males, self.males_2)\n",
    "        self.assertEqual(females, self.females_2)\n",
    "    \n",
    "    def test_match_one(self):\n",
    "        male_data, female_data = load_data()\n",
    "        matches = Matches(male_data, female_data)\n",
    "        expected = [frozenset({'0', '7'}),\n",
    "                    frozenset({'1', '5'}),\n",
    "                    frozenset({'2', '4'}),\n",
    "                    frozenset({'3', '6'})]\n",
    "        got = matches.match()\n",
    "        self.assertEqual(expected, got)\n",
    "    \n",
    "    def test_match_two(self):\n",
    "        male_data, female_data = load_data(0)\n",
    "        matches = Matches(male_data, female_data)\n",
    "        expected = [frozenset({'k', 'c'}), \n",
    "                    frozenset({'a', 'l'}), \n",
    "                    frozenset({'b', 'm'})]\n",
    "        got = matches.match()\n",
    "        self.assertEqual(expected, got)\n",
    "        \n",
    "\n",
    "if __name__ == '__main__':\n",
    "    unittest.main(argv = ['ignore-first-argv'], exit = False)"
   ]
  },
  {
   "cell_type": "code",
   "execution_count": 12,
   "metadata": {
    "collapsed": true,
    "jupyter": {
     "outputs_hidden": true
    }
   },
   "outputs": [],
   "source": [
    "# output = {}\n",
    "\n",
    "# epochs = len(males.keys())\n",
    "\n",
    "# proposer = {}\n",
    "\n",
    "\n",
    "# def match(i):\n",
    "#     for male in males:\n",
    "#         if male in proposer:\n",
    "#             if proposer[male]:\n",
    "#                 continue\n",
    "#         choice = males[male][i]\n",
    "#         print('guy {} pick girl {}'.format(male, choice))\n",
    "#         if choice in output:\n",
    "#             print('girl {} is choosen'.format(choice))\n",
    "#             picked_male = output[choice]\n",
    "#             if females[choice].index(picked_male) < females[choice].index(male):\n",
    "#                 # Smaller index means higher preference\n",
    "#                 print('girl {} picked {} instead of {}'.format(choice, picked_male, male))\n",
    "#                 output[choice] = picked_male\n",
    "#                 proposer[male] = False\n",
    "#                 proposer[picked_male] = True\n",
    "#             else:\n",
    "#                 proposer[male] = True\n",
    "#                 proposer[picked_male] = False\n",
    "#         else:\n",
    "#             output[choice] = male\n",
    "#             proposer[male] = True\n",
    "#     print(output, proposer)\n",
    "\n",
    "# while not all(proposer.values()) or len(proposer.values()) != epochs:\n",
    "#     for i in range(epochs):\n",
    "#         match(i)"
   ]
  },
  {
   "cell_type": "code",
   "execution_count": 13,
   "metadata": {
    "collapsed": true,
    "jupyter": {
     "outputs_hidden": true
    }
   },
   "outputs": [],
   "source": [
    "class Male:\n",
    "    def __init__(self, name, preference):\n",
    "        self.name = name\n",
    "        self.preference = preference\n",
    "        self.is_matched = False\n",
    "        self.partner = None\n",
    "        self.index = 0 # Index to hold the position of the proposed wives\n",
    "    \n",
    "    def propose(self):\n",
    "        female = self.preference[self.index]\n",
    "        self.index += 1\n",
    "        return female\n",
    "    \n",
    "    def is_available(self):\n",
    "        return not self.is_matched\n",
    "\n",
    "    def __str__(self):\n",
    "        if self.is_matched:\n",
    "            return '{} is matched to {}'.format(self.name, self.partner.name)\n",
    "        return '{} is single'.format(self.name)"
   ]
  },
  {
   "cell_type": "code",
   "execution_count": 14,
   "metadata": {
    "collapsed": true,
    "jupyter": {
     "outputs_hidden": true
    }
   },
   "outputs": [],
   "source": [
    "class Female:\n",
    "    def __init__(self, name, preference):\n",
    "        self.name = name\n",
    "        self.preference = preference\n",
    "        self.is_matched = False\n",
    "        self.partner = None\n",
    "    \n",
    "    def is_available(self):\n",
    "        return not self.is_matched\n",
    "\n",
    "    def rank(self, m1, m2):\n",
    "        m1_score = self.preference.index(m1)\n",
    "        m2_score = self.preference.index(m2)\n",
    "\n",
    "        # Lower index means higher preference\n",
    "        return m1 if m1_score < m2_score else m2\n",
    "\n",
    "    def __str__(self):\n",
    "        if self.is_matched:\n",
    "            return '{} is matched to {}'.format(self.name, self.partner.name)\n",
    "        return '{} is single'.format(self.name)"
   ]
  },
  {
   "cell_type": "code",
   "execution_count": 15,
   "metadata": {
    "collapsed": true,
    "jupyter": {
     "outputs_hidden": true
    }
   },
   "outputs": [],
   "source": [
    "class Matches:\n",
    "    def __init__(self, males, females):\n",
    "        self.matches = {}\n",
    "\n",
    "        self.choices = len(males)\n",
    "        self.males = list(males.keys())\n",
    "        self.females = list(females.keys())\n",
    "        self.match_count = 0\n",
    "        \n",
    "        for i in males:\n",
    "            self.matches[i] = Male(i, males[i])\n",
    "\n",
    "        for j in females:\n",
    "            self.matches[j] = Female(j, females[j])\n",
    "        \n",
    "    def engage(self, male_name, female_name):\n",
    "        \"\"\"Engage the male to the female if both of them are still available\n",
    "        \n",
    "        Args:\n",
    "            male_name (str): The name of the male\n",
    "            female_name (str): The name of the female\n",
    "        \"\"\"\n",
    "        male = self.matches[male_name]\n",
    "        female = self.matches[female_name]\n",
    "        \n",
    "        male.is_matched = True\n",
    "        male.partner = female\n",
    "        \n",
    "        female.is_matched = True\n",
    "        female.partner = male\n",
    "        \n",
    "        self.match_count += 1\n",
    "    \n",
    "    def breakup(self, male_name, female_name):\n",
    "        \"\"\"Break the engagement for both the male and female\n",
    "        \n",
    "        Args:\n",
    "            male_name (str): The name of the male\n",
    "            female_name (str): The name of the female\n",
    "        \"\"\"\n",
    "        male = self.matches[male_name]\n",
    "        female = self.matches[female_name]\n",
    "        \n",
    "        male.is_matched = False\n",
    "        male.partner = None\n",
    "        \n",
    "        female.is_matched = False\n",
    "        female.partner = None\n",
    "\n",
    "        self.match_count -= 1\n",
    "    \n",
    "    def match(self):\n",
    "        \"\"\"Recursively match the male and female as long as they \n",
    "        have not been matched. The matching ends once each male is\n",
    "        paired with a female\"\"\"\n",
    "        for m in self.males:\n",
    "            male = self.matches[m]\n",
    "            if not male.is_available():\n",
    "                continue\n",
    "\n",
    "            female = self.matches[male.propose()]\n",
    "            if female.is_available():\n",
    "                self.engage(male.name, female.name)\n",
    "            else:\n",
    "                male_name = female.rank(male.name, female.partner.name)\n",
    "                self.breakup(female.partner.name, male_name)\n",
    "                self.engage(male_name, female.name)\n",
    "        if self.match_count < self.choices:\n",
    "            self.match()\n",
    "\n",
    "        return self.sets()\n",
    "    \n",
    "    def sets(self):\n",
    "        \"\"\"Returns the male-female pairs that have been matched\n",
    "        \n",
    "        Returns:\n",
    "            matches (:obj:`list` of :obj:`str`): The unique pairs of male-female\n",
    "        \"\"\"\n",
    "        matches = {}\n",
    "        for i in self.matches:\n",
    "            match = self.matches[i]\n",
    "            matches[frozenset([match.name, match.partner.name])] = True\n",
    "        return list(matches.keys())"
   ]
  },
  {
   "cell_type": "code",
   "execution_count": 16,
   "metadata": {
    "collapsed": false,
    "jupyter": {
     "outputs_hidden": false
    }
   },
   "outputs": [
    {
     "data": {
      "text/plain": [
       "[frozenset({'0', '7'}),\n",
       " frozenset({'1', '5'}),\n",
       " frozenset({'2', '4'}),\n",
       " frozenset({'3', '6'})]"
      ]
     },
     "execution_count": 16,
     "metadata": {},
     "output_type": "execute_result"
    }
   ],
   "source": [
    "male_data, female_data = load_data(1)\n",
    "matches = Matches(male_data, female_data)\n",
    "matches.match()"
   ]
  }
 ],
 "metadata": {
  "kernelspec": {
   "display_name": "Python 3",
   "language": "python",
   "name": "python3"
  },
  "language_info": {
   "codemirror_mode": {
    "name": "ipython",
    "version": 3
   },
   "file_extension": ".py",
   "mimetype": "text/x-python",
   "name": "python",
   "nbconvert_exporter": "python",
   "pygments_lexer": "ipython3",
   "version": "3.6.10"
  }
 },
 "nbformat": 4,
 "nbformat_minor": 4
}
