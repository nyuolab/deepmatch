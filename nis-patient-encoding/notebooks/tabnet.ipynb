{
 "cells": [
  {
   "cell_type": "markdown",
   "metadata": {},
   "source": [
    "# TabNet"
   ]
  },
  {
   "cell_type": "markdown",
   "metadata": {},
   "source": [
    "#### Load Modules"
   ]
  },
  {
   "cell_type": "code",
   "execution_count": 7,
   "metadata": {},
   "outputs": [],
   "source": [
    "%load_ext autoreload\n",
    "%autoreload 2"
   ]
  },
  {
   "cell_type": "code",
   "execution_count": 8,
   "metadata": {},
   "outputs": [],
   "source": [
    "import torch\n",
    "import torch.nn as nn\n",
    "import h5py\n",
    "import numpy as np"
   ]
  },
  {
   "cell_type": "code",
   "execution_count": null,
   "metadata": {},
   "outputs": [],
   "source": [
    "from data.data_loader import NISDatabase\n",
    "from utils.experiments import find_nlike_features, create_onehot_info\n",
    "from utils.feature_utils import calc_output_dims"
   ]
  },
  {
   "cell_type": "code",
   "execution_count": 3,
   "metadata": {},
   "outputs": [],
   "source": [
    "import os\n",
    "os.chdir('/home/aisinai/work/repos/nis_patient_encoding/')"
   ]
  },
  {
   "cell_type": "markdown",
   "metadata": {},
   "source": [
    "#### Set Initial Parameters"
   ]
  },
  {
   "cell_type": "code",
   "execution_count": 2,
   "metadata": {
    "jupyter": {
     "source_hidden": true
    }
   },
   "outputs": [],
   "source": [
    "# device = torch.device('cuda:7')\n",
    "device = torch.device('cpu')"
   ]
  },
  {
   "cell_type": "code",
   "execution_count": null,
   "metadata": {
    "jupyter": {
     "source_hidden": true
    }
   },
   "outputs": [],
   "source": [
    "DATA_FOLDER = 'data/raw/'\n",
    "INPUT_FEATURES = {\n",
    "    'AGE' : {'type': 'continuous', 'rep_func': None},\n",
    "    'FEMALE' : {'type': 'one-hot', 'rep_func': None},\n",
    "    'HCUP_ED' : {'type': 'one-hot', 'rep_func': None},\n",
    "    'TRAN_IN' : {'type': 'one-hot', 'rep_func': None},\n",
    "    'ELECTIVE' : {'type': 'one-hot', 'rep_func': None},\n",
    "    'ZIPINC_QRTL' : {'type': 'one-hot', 'rep_func': None},\n",
    "    'DXn' : {'type': 'embedding', 'rep_func': None},\n",
    "    'ECODEn' : {'type': 'embedding', 'rep_func': None},\n",
    "    'PRn' : {'type': 'embedding', 'rep_func': None},\n",
    "}\n",
    "\n",
    "DEFAULT_BUILD = {\n",
    "\n",
    "    'encoding' : {\n",
    "        'total_layers' : 3,\n",
    "        'dimensions' : 128,\n",
    "        'activation' : 'leaky_relu',\n",
    "    },\n",
    "\n",
    "    'latent' : {'dimensions' : 32},\n",
    "\n",
    "    'decoding' : {\n",
    "        'dimensions' : 128,\n",
    "        'activation' : 'leaky_relu',\n",
    "        'total_layers' : 3,\n",
    "        'output_dims' : None\n",
    "    }\n",
    "}\n",
    "\n",
    "EMBEDDING_DICTIONARY = {\n",
    "    'DXn' : {\n",
    "        'header_prefix' : b'DX',\n",
    "        'num_classes' : 12583,\n",
    "        'dimensions' : 256,\n",
    "    },\n",
    "\n",
    "    'PRn' : {\n",
    "        'header_prefix' : b'PR',\n",
    "        'num_classes' : 4445,\n",
    "        'dimensions' : 64,\n",
    "    },\n",
    "\n",
    "    'ECODEn' : {\n",
    "        'header_prefix' : b'ECODE',\n",
    "        'num_classes' : 4445,\n",
    "        'dimensions' : 32,\n",
    "    },\n",
    "\n",
    "    'CHRONBn' : {\n",
    "        'header_prefix' : b'CHRONB',\n",
    "        'num_classes' : 19,\n",
    "        'dimensions' : 16,\n",
    "    }\n",
    "}\n",
    "\n",
    "ONE_HOT_LIST = [b'ELECTIVE', b'FEMALE', b'HCUP_ED', b'TRAN_IN', b'ZIPINC_QRTL']\n",
    "ONE_HOTS = { feature.decode('utf-8') : {} for feature in ONE_HOT_LIST }\n",
    "ONE_HOTS['ELECTIVE']['num_classes'] = 2 # 0,1\n",
    "ONE_HOTS['FEMALE']['num_classes'] = 2 # 0,1\n",
    "ONE_HOTS['TRAN_IN']['num_classes'] = 3 # 0-2\n",
    "ONE_HOTS['HCUP_ED']['num_classes'] = 5 # 0-4\n",
    "ONE_HOTS['ZIPINC_QRTL']['num_classes'] = 5 # 1-4\n",
    "\n",
    "CONTINUOUS = {'AGE' : {'feature_idx': 0} }\n",
    "\n",
    "FEATURE_REPRESENTATIONS = {}\n",
    "FEATURE_REPRESENTATIONS['embedding'] = EMBEDDING_DICTIONARY\n",
    "FEATURE_REPRESENTATIONS['one_hots'] = ONE_HOTS\n",
    "FEATURE_REPRESENTATIONS['continuous'] = CONTINUOUS"
   ]
  },
  {
   "cell_type": "code",
   "execution_count": null,
   "metadata": {
    "jupyter": {
     "source_hidden": true
    }
   },
   "outputs": [],
   "source": [
    "BATCH_SIZE = 512\n",
    "NUM_WORKERS = 4\n",
    "LEARNING_RATE = 5e-4\n",
    "NUM_EPOCHS = 100"
   ]
  },
  {
   "cell_type": "markdown",
   "metadata": {},
   "source": [
    "#### Load and modify data."
   ]
  },
  {
   "cell_type": "code",
   "execution_count": null,
   "metadata": {},
   "outputs": [],
   "source": [
    "db = NISDatabase(DATA_FOLDER + 'NIS_2012_2014_proto_emb.h5', 'TRAIN', {})"
   ]
  },
  {
   "cell_type": "code",
   "execution_count": null,
   "metadata": {},
   "outputs": [],
   "source": [
    "# Perform all relevant feature modifications\n",
    "find_nlike_features(db.headers, FEATURE_REPRESENTATIONS['embedding'])\n",
    "FEATURE_REPRESENTATIONS['one_hots'] = create_onehot_info(db, FEATURE_REPRESENTATIONS['one_hots'], FEATURE_REPRESENTATIONS['embedding'])\n",
    "DEFAULT_BUILD['features'] = FEATURE_REPRESENTATIONS\n",
    "calc_output_dims(DEFAULT_BUILD)"
   ]
  }
 ],
 "metadata": {
  "kernelspec": {
   "display_name": "Python 3",
   "language": "python",
   "name": "python3"
  },
  "language_info": {
   "codemirror_mode": {
    "name": "ipython",
    "version": 3
   },
   "file_extension": ".py",
   "mimetype": "text/x-python",
   "name": "python",
   "nbconvert_exporter": "python",
   "pygments_lexer": "ipython3",
   "version": "3.6.10"
  }
 },
 "nbformat": 4,
 "nbformat_minor": 4
}
