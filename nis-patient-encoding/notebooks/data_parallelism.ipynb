{
 "cells": [
  {
   "cell_type": "code",
   "execution_count": 1,
   "metadata": {},
   "outputs": [],
   "source": [
    "%load_ext autoreload\n",
    "%autoreload 2"
   ]
  },
  {
   "cell_type": "code",
   "execution_count": 2,
   "metadata": {},
   "outputs": [],
   "source": [
    "import torch\n",
    "import torch.nn as nn\n",
    "import torch.distributed as dist\n",
    "\n",
    "import h5py\n",
    "import tables\n",
    "import numpy as np\n",
    "import pickle\n",
    "from functools import reduce"
   ]
  },
  {
   "cell_type": "code",
   "execution_count": 3,
   "metadata": {},
   "outputs": [],
   "source": [
    "# device = torch.device('cpu')\n",
    "device = torch.device('cuda')\n",
    "# device = torch.device('cuda') # 4 GPUs :D "
   ]
  },
  {
   "cell_type": "code",
   "execution_count": 4,
   "metadata": {},
   "outputs": [],
   "source": [
    "import os\n",
    "os.chdir('/home/aisinai/work/repos/nis_patient_encoding/')"
   ]
  },
  {
   "cell_type": "code",
   "execution_count": 5,
   "metadata": {},
   "outputs": [],
   "source": [
    "from data.data_loader import NISDatabase\n",
    "from data.cohort_builder import CohortBuilder\n",
    "\n",
    "from utils.experiments import *\n",
    "from utils.feature_utils import *\n",
    "from utils.code_mappings import *\n",
    "\n",
    "from model.autoencoder.autoencoder import AutoEncoder\n",
    "from model.autoencoder.loss import CustomLoss\n",
    "from trainer.trainer import Trainer"
   ]
  },
  {
   "cell_type": "code",
   "execution_count": 6,
   "metadata": {},
   "outputs": [],
   "source": [
    "import matplotlib.pyplot as plt\n",
    "import seaborn as sns"
   ]
  },
  {
   "cell_type": "code",
   "execution_count": 7,
   "metadata": {},
   "outputs": [],
   "source": [
    "DATA_FOLDER = 'data/raw/'\n",
    "FIGURE_FOLDER = 'figures/dm/'"
   ]
  },
  {
   "cell_type": "markdown",
   "metadata": {},
   "source": [
    "# Playground"
   ]
  },
  {
   "cell_type": "markdown",
   "metadata": {},
   "source": [
    "#### Autoencoder 4.0"
   ]
  },
  {
   "cell_type": "code",
   "execution_count": 8,
   "metadata": {},
   "outputs": [],
   "source": [
    "case_db = NISDatabase(DATA_FOLDER + 'NIS_2012_2014_proto_emb_v2.h5', 'TRAIN', num_workers=4)\n",
    "control_db = NISDatabase(DATA_FOLDER + 'NIS_2012_2014_proto_emb_v2.h5', 'TRAIN', num_workers=4)"
   ]
  },
  {
   "cell_type": "code",
   "execution_count": 9,
   "metadata": {
    "jupyter": {
     "source_hidden": true
    }
   },
   "outputs": [],
   "source": [
    "DATA_FOLDER = 'data/raw/'\n",
    "INPUT_FEATURES = {\n",
    "    'AGE' : {'type': 'one_hot', 'rep_func': None},\n",
    "    'FEMALE' : {'type': 'one-hot', 'rep_func': None},\n",
    "    'HCUP_ED' : {'type': 'one-hot', 'rep_func': None},\n",
    "    'TRAN_IN' : {'type': 'one-hot', 'rep_func': None},\n",
    "    'ELECTIVE' : {'type': 'one-hot', 'rep_func': None},\n",
    "    'ZIPINC_QRTL' : {'type': 'one-hot', 'rep_func': None},\n",
    "    'DXn' : {'type': 'embedding', 'rep_func': None},\n",
    "    'ECODEn' : {'type': 'embedding', 'rep_func': None},\n",
    "    'PRn' : {'type': 'embedding', 'rep_func': None},\n",
    "    'CHRONn' : {'type': 'embedding', 'rep_func': None},\n",
    "}\n",
    "\n",
    "DEFAULT_BUILD = {\n",
    "    'encoding' : {\n",
    "        'total_layers' : 1,\n",
    "        'scale' : 4,\n",
    "        'activation' : 'leaky_relu',\n",
    "    },\n",
    "\n",
    "    'latent' : {'dimensions' : 64},\n",
    "\n",
    "    'decoding' : {\n",
    "        'scale' : 4,\n",
    "        'activation' : 'leaky_relu',\n",
    "        'total_layers' : 1,\n",
    "        'output_dims' : None\n",
    "    }\n",
    "}\n",
    "\n",
    "EMBEDDING_DICTIONARY = {\n",
    "\n",
    "     'CHRONn' : {\n",
    "        'header_prefix' : b'CHRON',\n",
    "        'num_classes' : 12583,\n",
    "        'dimensions' : 256,\n",
    "    },   \n",
    "\n",
    "    'DXn' : {\n",
    "        'header_prefix' : b'DX',\n",
    "        'num_classes' : 12583,\n",
    "        'dimensions' : 256,\n",
    "    },\n",
    "\n",
    "    'PRn' : {\n",
    "        'header_prefix' : b'PR',\n",
    "        'num_classes' : 4445,\n",
    "        'dimensions' : 64,\n",
    "    },\n",
    "\n",
    "    'ECODEn' : {\n",
    "        'header_prefix' : b'ECODE',\n",
    "        'num_classes' : 1186,\n",
    "        'dimensions' : 32,\n",
    "    },\n",
    "\n",
    "    'CHRONBn' : {\n",
    "        'header_prefix' : b'CHRONB',\n",
    "        'num_classes' : 19,\n",
    "        'dimensions' : 16,\n",
    "    }\n",
    "}\n",
    "\n",
    "ONE_HOT_LIST = [b'ELECTIVE', b'FEMALE', b'HCUP_ED', b'TRAN_IN', b'ZIPINC_QRTL', b'AGE']\n",
    "ONE_HOTS = { feature.decode('utf-8') : {} for feature in ONE_HOT_LIST }\n",
    "ONE_HOTS['ELECTIVE']['num_classes'] = 2 # 0,1\n",
    "ONE_HOTS['FEMALE']['num_classes'] = 2 # 0,1\n",
    "ONE_HOTS['TRAN_IN']['num_classes'] = 3 # 0-2\n",
    "ONE_HOTS['HCUP_ED']['num_classes'] = 5 # 0-4\n",
    "ONE_HOTS['ZIPINC_QRTL']['num_classes'] = 5 # 1-4\n",
    "ONE_HOTS['AGE']['num_classes'] = 13 # 0-12 (must be allowed to guess in between as well)\n",
    "\n",
    "CONTINUOUS = {}\n",
    "\n",
    "FEATURE_REPRESENTATIONS = {}\n",
    "FEATURE_REPRESENTATIONS['embedding'] = EMBEDDING_DICTIONARY\n",
    "FEATURE_REPRESENTATIONS['one_hots'] = ONE_HOTS\n",
    "FEATURE_REPRESENTATIONS['continuous'] = CONTINUOUS\n",
    "\n",
    "DEFAULT_BUILD['features'] = FEATURE_REPRESENTATIONS\n",
    "\n",
    "find_nlike_features(case_db.headers, FEATURE_REPRESENTATIONS['embedding'])\n",
    "FEATURE_REPRESENTATIONS['one_hots'] = create_onehot_info(case_db, FEATURE_REPRESENTATIONS['one_hots'], FEATURE_REPRESENTATIONS['embedding'])\n",
    "DEFAULT_BUILD['features'] = FEATURE_REPRESENTATIONS\n",
    "calc_output_dims(DEFAULT_BUILD)"
   ]
  },
  {
   "cell_type": "code",
   "execution_count": 10,
   "metadata": {},
   "outputs": [],
   "source": [
    "# Create our autoencoder\n",
    "ae = AutoEncoder(DEFAULT_BUILD)\n",
    "ae.load_state('/home/aisinai/work/repos/nis_patient_encoding/experiments/train_ae_020/1587303827.pth', device=device)\n",
    "\n",
    "ae = nn.DataParallel(ae, device_ids=[0, 1, 2, 3])\n",
    "ae = ae.to(device)"
   ]
  },
  {
   "cell_type": "code",
   "execution_count": 11,
   "metadata": {},
   "outputs": [
    {
     "data": {
      "text/plain": [
       "[0, 1, 2, 3]"
      ]
     },
     "execution_count": 11,
     "metadata": {},
     "output_type": "execute_result"
    }
   ],
   "source": [
    "ae.device_ids"
   ]
  },
  {
   "cell_type": "code",
   "execution_count": 12,
   "metadata": {},
   "outputs": [],
   "source": [
    "case_db.set_batch_size(4000)"
   ]
  },
  {
   "cell_type": "code",
   "execution_count": 13,
   "metadata": {},
   "outputs": [],
   "source": [
    "loss = CustomLoss().to(device)\n",
    "optimizer = torch.optim.Adam(ae.parameters(), lr=1e-4)"
   ]
  },
  {
   "cell_type": "code",
   "execution_count": 15,
   "metadata": {},
   "outputs": [
    {
     "name": "stdout",
     "output_type": "stream",
     "text": [
      "Outside: input size torch.Size([4000, 115]) output_size torch.Size([4000, 12583])\n",
      "Outside: input size torch.Size([4000, 115]) output_size torch.Size([4000, 12583])\n",
      "Outside: input size torch.Size([4000, 115]) output_size torch.Size([4000, 12583])\n",
      "Outside: input size torch.Size([4000, 115]) output_size torch.Size([4000, 12583])\n",
      "Outside: input size torch.Size([4000, 115]) output_size torch.Size([4000, 12583])\n",
      "Outside: input size torch.Size([4000, 115]) output_size torch.Size([4000, 12583])\n",
      "Outside: input size torch.Size([4000, 115]) output_size torch.Size([4000, 12583])\n",
      "Outside: input size torch.Size([4000, 115]) output_size torch.Size([4000, 12583])\n",
      "Outside: input size torch.Size([4000, 115]) output_size torch.Size([4000, 12583])\n",
      "Outside: input size torch.Size([4000, 115]) output_size torch.Size([4000, 12583])\n",
      "Outside: input size torch.Size([4000, 115]) output_size torch.Size([4000, 12583])\n"
     ]
    }
   ],
   "source": [
    "for i, data in enumerate(case_db.iterator):\n",
    "    input = data.to(device)\n",
    "    recon, gt = ae(input)\n",
    "    print(\"Outside: input size\", input.size(),\n",
    "          \"output_size\", recon['CHRONn'].size())\n",
    "    \n",
    "    l = loss(recon, gt)\n",
    "    optimizer.zero_grad()\n",
    "    l.backward()\n",
    "    optimizer.step()\n",
    "    \n",
    "    if i == 10:\n",
    "        break"
   ]
  }
 ],
 "metadata": {
  "kernelspec": {
   "display_name": "Python 3",
   "language": "python",
   "name": "python3"
  },
  "language_info": {
   "codemirror_mode": {
    "name": "ipython",
    "version": 3
   },
   "file_extension": ".py",
   "mimetype": "text/x-python",
   "name": "python",
   "nbconvert_exporter": "python",
   "pygments_lexer": "ipython3",
   "version": "3.6.10"
  }
 },
 "nbformat": 4,
 "nbformat_minor": 4
}
