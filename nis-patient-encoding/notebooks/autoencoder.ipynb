{
 "cells": [
  {
   "cell_type": "markdown",
   "metadata": {},
   "source": [
    "## Autoencoder"
   ]
  },
  {
   "cell_type": "markdown",
   "metadata": {},
   "source": [
    "To begin our deep clustering of the NIS patients, we'll start off with an autoencoder. \n",
    "\n",
    "First, some definitions as part of this markdown cell:\n",
    "- x : input features\n",
    "- (e) : embedding layer\n",
    "- (M) : dense-connected layer (MLP)\n",
    "- E : encoder\n",
    "- D : decoder\n",
    "- (L) : loss layer\n",
    "- L : loss function\n",
    "\n",
    "The general workflow:\n",
    "1. Identify exactly which features to take in.\n",
    "2. Identify how to work with missing data wrt categorical labels, etc. (ie transform -128 to 0 as needed, etc)\n",
    "3. Determine embedding sharing across multiple columns\n",
    "4. Determine one-hot encoding process\n",
    "5. Create encoder / decoder \n",
    "6. Create loss function (L2 norm + KL divergence)"
   ]
  },
  {
   "cell_type": "markdown",
   "metadata": {},
   "source": [
    "#### More on Features"
   ]
  },
  {
   "cell_type": "markdown",
   "metadata": {},
   "source": [
    "What continuous features do we have?\n",
    "1. Age\n",
    "\n",
    "What unique categorical features do we have?\n",
    "1. Chronic Conditions\n",
    "3. Biological sex\n",
    "4. Mean household income for zipcode\n",
    "2. Hospital Diagnoses, Not Chronic\n",
    "3. Procedure codes (ICD9, SCCS, MCCS)\n",
    "3. Admission information (month, weekend)\n",
    "5. ED admission or not\n",
    "6. Elective vs nonelective admission\n",
    "7. Transfer in or not\n",
    "7. Urban-rural classification scheme for hospital\n",
    "8. NIS stratum for hospital\n",
    "\n",
    "The above can be distilled into the following important major criteria:\n",
    "1. Medical history (chronic conditions, sex, household income)\n",
    "2. Admission events (diagnoses, injury, procedures)\n",
    "3. Admission information (ED, elective, transfer)\n",
    "4. Hospital information (urban-rural classification, nis-stratum)\n",
    "\n",
    "Regardless, which of these categorical features need embeddings?\n",
    "1. Diagnoses during hospital admission\n",
    "2. Injuries during hospital admission\n",
    "3. Procedures during hospital admission (PRn)\n",
    "4. Chronic conditions (as represented by CHRONBn, CHRONn)\n",
    "\n",
    "And for now, we'll one-hot-encode the following:\n",
    "1. Biological sex\n",
    "2. Elective admission\n",
    "3. Transfer status\n",
    "4. Zipcode income quartile\n",
    "5. ED status\n",
    "\n",
    "To kick things off on a good foundation, we'll use the ICD9 codes and not their derivative fields (eg CCS)."
   ]
  },
  {
   "cell_type": "code",
   "execution_count": 2,
   "metadata": {},
   "outputs": [],
   "source": [
    "INPUT_FEATURES = {\n",
    "    'AGE' : {'type': 'continuous', 'rep_func': None},\n",
    "    'FEMALE' : {'type': 'one-hot', 'rep_func': None},\n",
    "    'HCUP_ED' : {'type': 'one-hot', 'rep_func': None},\n",
    "    'TRAN_IN' : {'type': 'one-hot', 'rep_func': None},\n",
    "    'ELECTIVE' : {'type': 'one-hot', 'rep_func': None},\n",
    "    'ZIPINC_QRTL' : {'type': 'one-hot', 'rep_func': None},\n",
    "    'DXn' : {'type': 'embedding', 'rep_func': None},\n",
    "    'ECODEn' : {'type': 'embedding', 'rep_func': None},\n",
    "    'PRn' : {'type': 'embedding', 'rep_func': None},\n",
    "}"
   ]
  },
  {
   "cell_type": "code",
   "execution_count": 3,
   "metadata": {},
   "outputs": [],
   "source": [
    "%load_ext autoreload\n",
    "%autoreload 2"
   ]
  },
  {
   "cell_type": "code",
   "execution_count": 90,
   "metadata": {},
   "outputs": [],
   "source": [
    "import torch\n",
    "import torch.nn as nn\n",
    "import h5py\n",
    "import numpy as np\n",
    "import seaborn as sns"
   ]
  },
  {
   "cell_type": "code",
   "execution_count": 5,
   "metadata": {},
   "outputs": [],
   "source": [
    "# device = torch.device('cuda:7')\n",
    "device = torch.device('cpu')"
   ]
  },
  {
   "cell_type": "code",
   "execution_count": 6,
   "metadata": {},
   "outputs": [],
   "source": [
    "import os\n",
    "os.chdir('/home/aisinai/work/repos/nis_patient_encoding/')"
   ]
  },
  {
   "cell_type": "code",
   "execution_count": 7,
   "metadata": {},
   "outputs": [],
   "source": [
    "from model.autoencoder.autoencoder import AutoEncoder\n",
    "from data.data_loader import NISDatabase"
   ]
  },
  {
   "cell_type": "code",
   "execution_count": 8,
   "metadata": {},
   "outputs": [],
   "source": [
    "DATA_FOLDER = 'data/raw/'"
   ]
  },
  {
   "cell_type": "markdown",
   "metadata": {},
   "source": [
    "### Determine Embedding Information"
   ]
  },
  {
   "cell_type": "markdown",
   "metadata": {},
   "source": [
    "#### Embedding layers"
   ]
  },
  {
   "cell_type": "markdown",
   "metadata": {},
   "source": [
    "There should be 3 embedding layers:\n",
    "1. Hospital Diagnoses\n",
    "2. Pre-existing comorbidities (ICD9 codes)\n",
    "3. Procedures\n",
    "4. Injuries\n",
    "\n",
    "Each embedding layer _i_ will take in a (_N_ x _Mi_) array of _N_ batch patients with _Mi_ features with vocabulary size _Ui_ that need to be embedded to dimension _Vi_. This amounts to (N x Mi) => (N x Vi). \n",
    "\n",
    "Then, the first encoding layer will accept a matrix of size (N x (sum(Vi) + Hj + C)), where Hi is the size of a one-hot encoded layer j and C is the number of continuous features present.\n",
    "\n",
    "How many features to embed into? Some guesses:\n",
    "1. Diagnoses => 256 (based on single-level CCS range)\n",
    "2. Comorbidities => 256 (based on single-level CCS range)\n",
    "2. Procedures => 256 (based on single-level CCS range)\n",
    "3. Injury => 32 (based on single-level CCS range)"
   ]
  },
  {
   "cell_type": "markdown",
   "metadata": {},
   "source": [
    "#### One interesting thought to consider => \n",
    "Sometimes, we may want to characterize patients not by organ system of disease, but by severity (eg CKD stage 1 and stage IV CHF aren't likely the same, but maybe CKD and CHF stage IV are)"
   ]
  },
  {
   "cell_type": "markdown",
   "metadata": {},
   "source": [
    "### Explore Autoencoder Training"
   ]
  },
  {
   "cell_type": "markdown",
   "metadata": {},
   "source": [
    "#### Create Embedding Information"
   ]
  },
  {
   "cell_type": "code",
   "execution_count": 8,
   "metadata": {
    "jupyter": {
     "source_hidden": true
    }
   },
   "outputs": [],
   "source": [
    "db = NISDatabase(DATA_FOLDER + 'NIS_2012_2014_prototype.h5', 'TRAIN', {})"
   ]
  },
  {
   "cell_type": "code",
   "execution_count": null,
   "metadata": {
    "jupyter": {
     "source_hidden": true
    }
   },
   "outputs": [],
   "source": [
    "def find_nlike_features(headers, emb_dict):\n",
    "    \"\"\"\n",
    "    \"\"\"\n",
    "\n",
    "    for emb_name, emb in emb_dict.items():\n",
    "        # idenitfy feature vector\n",
    "        emb_dict[emb_name]['feature_idx'] = []\n",
    "        len_name = len(emb['header_prefix'])\n",
    "\n",
    "        for idx, header in enumerate(headers):\n",
    "            if header[:len_name] == emb['header_prefix'] and header[len_name:len_name+1] != b'B':\n",
    "                emb_dict[emb_name]['feature_idx'].append(idx)"
   ]
  },
  {
   "cell_type": "code",
   "execution_count": null,
   "metadata": {
    "jupyter": {
     "source_hidden": true
    }
   },
   "outputs": [],
   "source": [
    "EMBEDDING_DICTIONARY = {\n",
    "    'diagnoses' : {\n",
    "        'header_prefix' : b'DX',\n",
    "        'vocab_size' : 300000,\n",
    "        'dimensions' : 256,\n",
    "    },\n",
    "\n",
    "    'procedures' : {\n",
    "        'header_prefix' : b'PR',\n",
    "        'vocab_size' : 100000,\n",
    "        'dimensions' : 64,\n",
    "    },\n",
    "\n",
    "    'injury' : {\n",
    "        'header_prefix' : b'ECODE',\n",
    "        'vocab_size' : 100000,\n",
    "        'dimensions' : 32,\n",
    "    },\n",
    "\n",
    "    'chronic_conditions' : {\n",
    "        'header_prefix' : b'CHRONB',\n",
    "        'vocab_size' : 19,\n",
    "        'dimensions' : 16,\n",
    "    }\n",
    "}"
   ]
  },
  {
   "cell_type": "code",
   "execution_count": null,
   "metadata": {
    "jupyter": {
     "source_hidden": true
    }
   },
   "outputs": [],
   "source": [
    "find_nlike_features(db.headers, EMBEDDING_DICTIONARY)"
   ]
  },
  {
   "cell_type": "code",
   "execution_count": null,
   "metadata": {
    "jupyter": {
     "source_hidden": true
    }
   },
   "outputs": [],
   "source": [
    "DEFAULT_BUILD = {\n",
    "\n",
    "    'encoding' : {\n",
    "        'total_layers' : 3,\n",
    "        'dimensions' : 64,\n",
    "        'activation' : 'leaky_relu',\n",
    "    },\n",
    "\n",
    "    'latent' : {'dimensions' : 32},\n",
    "\n",
    "    'decoding' : {\n",
    "        'dimensions' : 64,\n",
    "        'activation' : 'leaky_relu',\n",
    "        'total_layers' : 3,\n",
    "        'output_dims' : None\n",
    "    }\n",
    "}"
   ]
  },
  {
   "cell_type": "code",
   "execution_count": null,
   "metadata": {
    "jupyter": {
     "source_hidden": true
    }
   },
   "outputs": [],
   "source": [
    "ONE_HOTS = {}\n",
    "for idx, header in enumerate(db.headers):\n",
    "    still_good = True\n",
    "    if idx == 0:\n",
    "        still_good = False\n",
    "        \n",
    "    if header[:5] == b'CHRON':\n",
    "        still_good = False\n",
    "\n",
    "    for embed_vec in EMBEDDING_DICTIONARY.values():\n",
    "        if idx in embed_vec['features']:\n",
    "            still_good = False\n",
    "            break\n",
    "\n",
    "    if still_good:\n",
    "        ONE_HOTS[header.decode('utf-8')] = {}\n",
    "        ONE_HOTS[header.decode('utf-8')]['idx'] = idx"
   ]
  },
  {
   "cell_type": "code",
   "execution_count": null,
   "metadata": {
    "jupyter": {
     "source_hidden": true
    }
   },
   "outputs": [],
   "source": [
    "ONE_HOTS['ELECTIVE']['unique_vals'] = 2 # 0,1\n",
    "ONE_HOTS['FEMALE']['unique_vals'] = 2 # 0,1\n",
    "ONE_HOTS['TRAN_IN']['unique_vals'] = 3 # 0-2\n",
    "ONE_HOTS['HCUP_ED']['unique_vals'] = 5 # 0-4\n",
    "ONE_HOTS['ZIPINC_QRTL']['unique_vals'] = 5 # 1-4"
   ]
  },
  {
   "cell_type": "code",
   "execution_count": null,
   "metadata": {
    "jupyter": {
     "source_hidden": true
    }
   },
   "outputs": [],
   "source": [
    "CONTINUOUS = {'age' : 0 }"
   ]
  },
  {
   "cell_type": "code",
   "execution_count": null,
   "metadata": {
    "jupyter": {
     "source_hidden": true
    }
   },
   "outputs": [],
   "source": [
    "FEATURE_REPRESENTATIONS = {}\n",
    "FEATURE_REPRESENTATIONS['embedding'] = EMBEDDING_DICTIONARY\n",
    "FEATURE_REPRESENTATIONS['one_hots'] = ONE_HOTS\n",
    "FEATURE_REPRESENTATIONS['continuous'] = CONTINUOUS\n",
    "\n",
    "DEFAULT_BUILD['features'] = FEATURE_REPRESENTATIONS\n",
    "DEFAULT_BUILD['decoding']['output_dims'] = db.headers.shape[0]"
   ]
  },
  {
   "cell_type": "markdown",
   "metadata": {},
   "source": [
    "#### Create Autoencoder"
   ]
  },
  {
   "cell_type": "code",
   "execution_count": null,
   "metadata": {
    "jupyter": {
     "source_hidden": true
    }
   },
   "outputs": [],
   "source": [
    "ae = AutoEncoder(DEFAULT_BUILD).to(device)"
   ]
  },
  {
   "cell_type": "markdown",
   "metadata": {},
   "source": [
    "#### Spawn Data Loader and Others"
   ]
  },
  {
   "cell_type": "code",
   "execution_count": null,
   "metadata": {
    "jupyter": {
     "source_hidden": true
    }
   },
   "outputs": [],
   "source": [
    "db_dl = torch.utils.data.DataLoader(db, batch_size=128, pin_memory=True, num_workers=4)"
   ]
  },
  {
   "cell_type": "code",
   "execution_count": null,
   "metadata": {
    "jupyter": {
     "source_hidden": true
    }
   },
   "outputs": [],
   "source": [
    "from model.autoencoder.loss import loss_mse\n",
    "loss = loss_mse\n",
    "optimizer = torch.optim.Adam(ae.parameters(), lr=5e-4)"
   ]
  },
  {
   "cell_type": "code",
   "execution_count": null,
   "metadata": {
    "jupyter": {
     "source_hidden": true
    }
   },
   "outputs": [],
   "source": [
    "from trainer.trainer import Trainer\n",
    "train = Trainer(ae, loss, optimizer, db_dl, device)"
   ]
  },
  {
   "cell_type": "code",
   "execution_count": null,
   "metadata": {
    "jupyter": {
     "source_hidden": true
    },
    "scrolled": true
   },
   "outputs": [],
   "source": [
    "# train.train(1000, '/home/aisinai/work/repos/nis_patient_encoding/experiments/train_ae_001/')"
   ]
  },
  {
   "cell_type": "markdown",
   "metadata": {},
   "source": [
    "#### Analyze outputs"
   ]
  },
  {
   "cell_type": "code",
   "execution_count": null,
   "metadata": {
    "jupyter": {
     "source_hidden": true
    }
   },
   "outputs": [],
   "source": [
    "last_save = '/home/aisinai/work/repos/nis_patient_encoding/experiments/train_ae_001/1585653337.pth'\n",
    "ae.load_state(last_save, device=device, prediction=True)"
   ]
  },
  {
   "cell_type": "code",
   "execution_count": null,
   "metadata": {
    "jupyter": {
     "source_hidden": true
    }
   },
   "outputs": [],
   "source": [
    "samp_batch = next(iter(db_dl)).to(device)"
   ]
  },
  {
   "cell_type": "code",
   "execution_count": null,
   "metadata": {
    "jupyter": {
     "source_hidden": true
    }
   },
   "outputs": [],
   "source": [
    "ae(samp_batch)"
   ]
  },
  {
   "cell_type": "code",
   "execution_count": null,
   "metadata": {
    "jupyter": {
     "source_hidden": true
    }
   },
   "outputs": [],
   "source": [
    "samp_batch[-3]"
   ]
  },
  {
   "cell_type": "code",
   "execution_count": null,
   "metadata": {
    "jupyter": {
     "source_hidden": true
    }
   },
   "outputs": [],
   "source": [
    "ae(samp_batch[-3:-2, :])"
   ]
  },
  {
   "cell_type": "code",
   "execution_count": null,
   "metadata": {
    "jupyter": {
     "source_hidden": true
    }
   },
   "outputs": [],
   "source": [
    "ae(samp_batch[-3:-2, :]) - samp_batch[-3]"
   ]
  },
  {
   "cell_type": "markdown",
   "metadata": {},
   "source": [
    "### Discussion with Eric"
   ]
  },
  {
   "cell_type": "markdown",
   "metadata": {},
   "source": [
    "X) Go over architecture using train_ae_xxx.py as template\n",
    "\n",
    "A) Loss function and output options:\n",
    "1. Output tries to recreate input features => MSE over continuous, NLL over categorical, ? for embedded-cats\n",
    "2. Output tries to recreate embedding + cont/cat features => MSE over continuous + embedded, NLL over categorical\n",
    "3. Output tries to recreate input features, with embedding via 'de-embedding' from learned embedded weights (though E is noninvertible) => MSE over continuous, NLL over categorical, embedded-cats\n",
    "\n",
    "B) Utility of a U-Net type of architecture in reconstruction?\n",
    "\n",
    "NOTES:\n",
    "1. Binary cross-entropy loss with sigmoid activation\n",
    "1. Adversarial-esque W2V (with age buckets instead of continuous representation)\n",
    "2. Predict a task OR MULTIPLE jointly (e.g. outcomes), not reconstruct => wide/deep"
   ]
  },
  {
   "cell_type": "markdown",
   "metadata": {},
   "source": [
    "## Autoencoder 2.0"
   ]
  },
  {
   "cell_type": "markdown",
   "metadata": {},
   "source": [
    "The modifications we'll make here are the following:\n",
    "1. Loss will be calculated using MSE with the GT as the embedding + categorical cols + continuous cols.\n",
    "2. Embedding dims needs to be decreased, since it's already >9000 features. Let's scale down by 1/2.\n",
    "4. Returning now a second outuput from forward func to represent embedding + cat cols + cont col.\n",
    "3. Modifying funcs and subfuncs to calculate output dims for this second output.\n",
    "5. Renamed self.encoding_output_dims to self.dense_encoding_input_dims."
   ]
  },
  {
   "cell_type": "code",
   "execution_count": 100,
   "metadata": {
    "jupyter": {
     "source_hidden": true
    }
   },
   "outputs": [],
   "source": [
    "db = NISDatabase(DATA_FOLDER + 'NIS_2012_2014_proto_emb.h5', 'VAL', {})"
   ]
  },
  {
   "cell_type": "code",
   "execution_count": 101,
   "metadata": {
    "jupyter": {
     "source_hidden": true
    }
   },
   "outputs": [],
   "source": [
    "from utils.experiments import find_nlike_features"
   ]
  },
  {
   "cell_type": "code",
   "execution_count": 102,
   "metadata": {
    "jupyter": {
     "source_hidden": true
    }
   },
   "outputs": [],
   "source": [
    "EMBEDDING_DICTIONARY = {\n",
    "    'DXn' : {\n",
    "        'header_prefix' : b'DX',\n",
    "        'num_classes' : 12583,\n",
    "        'dimensions' : 256,\n",
    "    },\n",
    "\n",
    "    'PRn' : {\n",
    "        'header_prefix' : b'PR',\n",
    "        'num_classes' : 4445,\n",
    "        'dimensions' : 64,\n",
    "    },\n",
    "\n",
    "    'ECODEn' : {\n",
    "        'header_prefix' : b'ECODE',\n",
    "        'num_classes' : 4445,\n",
    "        'dimensions' : 32,\n",
    "    },\n",
    "\n",
    "    'CHRONBn' : {\n",
    "        'header_prefix' : b'CHRONB',\n",
    "        'num_classes' : 19,\n",
    "        'dimensions' : 16,\n",
    "    }\n",
    "}"
   ]
  },
  {
   "cell_type": "code",
   "execution_count": 103,
   "metadata": {
    "jupyter": {
     "source_hidden": true
    }
   },
   "outputs": [],
   "source": [
    "find_nlike_features(db.headers, EMBEDDING_DICTIONARY)"
   ]
  },
  {
   "cell_type": "code",
   "execution_count": 104,
   "metadata": {
    "jupyter": {
     "source_hidden": true
    }
   },
   "outputs": [],
   "source": [
    "DEFAULT_BUILD = {\n",
    "\n",
    "    'encoding' : {\n",
    "        'total_layers' : 3,\n",
    "        'dimensions' : 128,\n",
    "        'activation' : 'leaky_relu',\n",
    "    },\n",
    "\n",
    "    'latent' : {'dimensions' : 32},\n",
    "\n",
    "    'decoding' : {\n",
    "        'dimensions' : 128,\n",
    "        'activation' : 'leaky_relu',\n",
    "        'total_layers' : 3,\n",
    "        'output_dims' : None\n",
    "    }\n",
    "}"
   ]
  },
  {
   "cell_type": "code",
   "execution_count": 105,
   "metadata": {
    "jupyter": {
     "source_hidden": true
    }
   },
   "outputs": [],
   "source": [
    "ONE_HOTS = {}\n",
    "for idx, header in enumerate(db.headers):\n",
    "    still_good = True\n",
    "    if idx == 0:\n",
    "        still_good = False\n",
    "        \n",
    "    if header[:5] == b'CHRON':\n",
    "        still_good = False\n",
    "\n",
    "    for embed_vec in EMBEDDING_DICTIONARY.values():\n",
    "        if idx in embed_vec['feature_idx']:\n",
    "            still_good = False\n",
    "            break\n",
    "\n",
    "    if still_good:\n",
    "        ONE_HOTS[header.decode('utf-8')] = {}\n",
    "        ONE_HOTS[header.decode('utf-8')]['feature_idx'] = idx"
   ]
  },
  {
   "cell_type": "code",
   "execution_count": 106,
   "metadata": {
    "jupyter": {
     "source_hidden": true
    }
   },
   "outputs": [],
   "source": [
    "ONE_HOTS['ELECTIVE']['num_classes'] = 2 # 0,1\n",
    "ONE_HOTS['FEMALE']['num_classes'] = 2 # 0,1\n",
    "ONE_HOTS['TRAN_IN']['num_classes'] = 3 # 0-2\n",
    "ONE_HOTS['HCUP_ED']['num_classes'] = 5 # 0-4\n",
    "ONE_HOTS['ZIPINC_QRTL']['num_classes'] = 5 # 1-4"
   ]
  },
  {
   "cell_type": "code",
   "execution_count": 107,
   "metadata": {
    "jupyter": {
     "source_hidden": true
    }
   },
   "outputs": [],
   "source": [
    "CONTINUOUS = {'AGE' : {'feature_idx': 0} }"
   ]
  },
  {
   "cell_type": "code",
   "execution_count": 108,
   "metadata": {
    "jupyter": {
     "source_hidden": true
    }
   },
   "outputs": [],
   "source": [
    "FEATURE_REPRESENTATIONS = {}\n",
    "FEATURE_REPRESENTATIONS['embedding'] = EMBEDDING_DICTIONARY\n",
    "FEATURE_REPRESENTATIONS['one_hots'] = ONE_HOTS\n",
    "FEATURE_REPRESENTATIONS['continuous'] = CONTINUOUS\n",
    "\n",
    "DEFAULT_BUILD['features'] = FEATURE_REPRESENTATIONS\n",
    "\n",
    "output_dims = np.sum([embedding['num_classes'] * len(embedding['feature_idx']) for embedding in DEFAULT_BUILD['features']['embedding'].values()])\n",
    "output_dims += np.sum([catfeat['num_classes'] for catfeat in DEFAULT_BUILD['features']['one_hots'].values()])\n",
    "output_dims += np.sum([1 for contfeat in DEFAULT_BUILD['features']['continuous'].values()])\n",
    "DEFAULT_BUILD['decoding']['output_dims'] = output_dims"
   ]
  },
  {
   "cell_type": "code",
   "execution_count": 109,
   "metadata": {
    "jupyter": {
     "source_hidden": true
    }
   },
   "outputs": [],
   "source": [
    "ae = AutoEncoder(DEFAULT_BUILD).to(device)"
   ]
  },
  {
   "cell_type": "code",
   "execution_count": 110,
   "metadata": {
    "collapsed": true,
    "jupyter": {
     "outputs_hidden": true,
     "source_hidden": true
    }
   },
   "outputs": [
    {
     "data": {
      "text/plain": [
       "AutoEncoder(\n",
       "  (embeddings): ModuleDict(\n",
       "    (DXn): Embedding(12583, 256)\n",
       "    (PRn): Embedding(4445, 64)\n",
       "    (ECODEn): Embedding(4445, 32)\n",
       "    (CHRONBn): Embedding(19, 16)\n",
       "  )\n",
       "  (encoder): ModuleList(\n",
       "    (0): Sequential(\n",
       "      (0): Linear(in_features=9266, out_features=128, bias=True)\n",
       "      (1): LeakyReLU(negative_slope=0.01)\n",
       "    )\n",
       "    (1): Sequential(\n",
       "      (0): Linear(in_features=128, out_features=128, bias=True)\n",
       "      (1): LeakyReLU(negative_slope=0.01)\n",
       "    )\n",
       "    (2): Sequential(\n",
       "      (0): Linear(in_features=128, out_features=128, bias=True)\n",
       "      (1): LeakyReLU(negative_slope=0.01)\n",
       "    )\n",
       "    (3): Sequential(\n",
       "      (0): Linear(in_features=128, out_features=32, bias=True)\n",
       "      (1): LeakyReLU(negative_slope=0.01)\n",
       "    )\n",
       "  )\n",
       "  (decoder): ModuleList(\n",
       "    (0): Sequential(\n",
       "      (0): Linear(in_features=32, out_features=128, bias=True)\n",
       "      (1): LeakyReLU(negative_slope=0.01)\n",
       "    )\n",
       "    (1): Sequential(\n",
       "      (0): Linear(in_features=128, out_features=128, bias=True)\n",
       "      (1): LeakyReLU(negative_slope=0.01)\n",
       "    )\n",
       "    (2): Sequential(\n",
       "      (0): Linear(in_features=128, out_features=9266, bias=True)\n",
       "      (1): LeakyReLU(negative_slope=0.01)\n",
       "    )\n",
       "  )\n",
       "  (reconstruction): ModuleDict(\n",
       "    (DXn): Linear(in_features=9266, out_features=12583, bias=True)\n",
       "    (PRn): Linear(in_features=9266, out_features=4445, bias=True)\n",
       "    (ECODEn): Linear(in_features=9266, out_features=4445, bias=True)\n",
       "    (CHRONBn): Linear(in_features=9266, out_features=19, bias=True)\n",
       "    (ELECTIVE): Linear(in_features=9266, out_features=2, bias=True)\n",
       "    (FEMALE): Linear(in_features=9266, out_features=2, bias=True)\n",
       "    (HCUP_ED): Linear(in_features=9266, out_features=5, bias=True)\n",
       "    (TRAN_IN): Linear(in_features=9266, out_features=3, bias=True)\n",
       "    (ZIPINC_QRTL): Linear(in_features=9266, out_features=5, bias=True)\n",
       "    (AGE): Linear(in_features=9266, out_features=1, bias=True)\n",
       "  )\n",
       ")"
      ]
     },
     "execution_count": 110,
     "metadata": {},
     "output_type": "execute_result"
    }
   ],
   "source": [
    "ae"
   ]
  },
  {
   "cell_type": "code",
   "execution_count": 22,
   "metadata": {
    "jupyter": {
     "source_hidden": true
    }
   },
   "outputs": [],
   "source": [
    "from model.autoencoder.loss import CustomLoss\n",
    "loss = CustomLoss()\n",
    "optimizer = torch.optim.Adam(ae.parameters(), lr=5e-4)"
   ]
  },
  {
   "cell_type": "code",
   "execution_count": 57,
   "metadata": {
    "jupyter": {
     "source_hidden": true
    }
   },
   "outputs": [],
   "source": [
    "db_dl = torch.utils.data.DataLoader(db, batch_size=128, pin_memory=True, num_workers=4)\n",
    "samp_batch = next(iter(db_dl))"
   ]
  },
  {
   "cell_type": "code",
   "execution_count": 111,
   "metadata": {
    "jupyter": {
     "source_hidden": true
    }
   },
   "outputs": [],
   "source": [
    "ae.load_state('/home/aisinai/work/repos/nis_patient_encoding/experiments/train_ae_002/1585911282.pth', prediction=True)"
   ]
  },
  {
   "cell_type": "code",
   "execution_count": 129,
   "metadata": {},
   "outputs": [],
   "source": [
    "recon, target = ae.predict(samp_batch)"
   ]
  },
  {
   "cell_type": "code",
   "execution_count": 139,
   "metadata": {
    "collapsed": true,
    "jupyter": {
     "outputs_hidden": true
    }
   },
   "outputs": [
    {
     "data": {
      "text/plain": [
       "tensor([4., 2., 1., 2., 2., 1., 1., 1., 5., 5., 2., 2., 1., 2., 1., 1., 2., 2.,\n",
       "        3., 2., 1., 1., 3., 1., 1., 2., 1., 1., 1., 3., 2., 2., 2., 3., 1., 1.,\n",
       "        1., 1., 2., 5., 1., 1., 1., 2., 1., 2., 1., 2., 2., 2., 2., 2., 2., 2.,\n",
       "        1., 3., 1., 1., 1., 1., 6., 2., 1., 2., 2., 1., 2., 5., 3., 1., 1., 1.,\n",
       "        2., 1., 8., 2., 1., 1., 1., 3., 1., 2., 1., 7., 1., 1., 1., 2., 1., 1.,\n",
       "        3., 1., 2., 1., 3., 3., 2., 1., 1., 2., 1., 2., 2., 1., 1., 2., 4., 2.,\n",
       "        2., 2., 1., 1., 1., 2., 1., 2., 4., 3., 1., 1., 3., 2., 2., 2., 1., 1.,\n",
       "        1., 4.], grad_fn=<SumBackward1>)"
      ]
     },
     "execution_count": 139,
     "metadata": {},
     "output_type": "execute_result"
    }
   ],
   "source": [
    "torch.sum(recon['DXn'].round_(), axis=1)"
   ]
  },
  {
   "cell_type": "code",
   "execution_count": 140,
   "metadata": {
    "collapsed": true,
    "jupyter": {
     "outputs_hidden": true
    }
   },
   "outputs": [
    {
     "data": {
      "text/plain": [
       "tensor([15.,  8.,  4., 14.,  7.,  5., 18.,  5., 20., 22.,  6.,  1., 18.,  3.,\n",
       "        12.,  5., 15.,  9., 16.,  5.,  5., 13., 14.,  6., 14., 16.,  2., 18.,\n",
       "        10.,  3., 10.,  2.,  7., 14., 10.,  5.,  9.,  6.,  8., 19.,  8.,  1.,\n",
       "         6.,  9.,  8.,  1.,  3., 22.,  9.,  1., 14.,  4.,  6., 18.,  8., 18.,\n",
       "         6., 13., 10.,  4., 18., 11., 12., 10., 14.,  9., 12., 18., 16.,  7.,\n",
       "         5.,  5., 26., 24., 16.,  6.,  9.,  3.,  6., 14., 11.,  2.,  3., 24.,\n",
       "        10.,  5.,  4., 16.,  6.,  3., 21., 15., 11.,  5., 11., 26., 15., 15.,\n",
       "         8.,  6.,  7., 18., 12.,  5., 13., 11., 18., 11., 26.,  9., 10., 16.,\n",
       "         7.,  9.,  6.,  2., 10.,  4., 10., 14., 25.,  7., 10.,  7.,  4., 15.,\n",
       "        10., 11.], grad_fn=<SumBackward1>)"
      ]
     },
     "execution_count": 140,
     "metadata": {},
     "output_type": "execute_result"
    }
   ],
   "source": [
    "torch.sum(torch.abs(recon['DXn'].round_() - target['DXn']), axis=1)"
   ]
  },
  {
   "cell_type": "code",
   "execution_count": 93,
   "metadata": {},
   "outputs": [],
   "source": [
    "params = 0\n",
    "for param in ae.parameters():\n",
    "    ps = param.shape\n",
    "    if len(param.shape) > 1:\n",
    "        ps_val = 1\n",
    "        for p in ps:\n",
    "            ps_val *= p\n",
    "        params += ps_val\n",
    "    else:\n",
    "        params += ps[0]"
   ]
  },
  {
   "cell_type": "code",
   "execution_count": 33,
   "metadata": {
    "collapsed": true,
    "jupyter": {
     "outputs_hidden": true
    }
   },
   "outputs": [
    {
     "data": {
      "text/plain": [
       "tensor(0.0974, grad_fn=<AddBackward0>)"
      ]
     },
     "execution_count": 33,
     "metadata": {},
     "output_type": "execute_result"
    }
   ],
   "source": [
    "loss(recon, target)"
   ]
  },
  {
   "cell_type": "code",
   "execution_count": null,
   "metadata": {},
   "outputs": [],
   "source": [
    "train = Trainer(ae, loss, optimizer, db_dl, device)"
   ]
  },
  {
   "cell_type": "code",
   "execution_count": null,
   "metadata": {},
   "outputs": [],
   "source": [
    "train.train(1, '/home/aisinai/work/repos/nis_patient_encoding/experiments/testing/')"
   ]
  },
  {
   "cell_type": "markdown",
   "metadata": {},
   "source": [
    "### Autoencoder 3.0"
   ]
  },
  {
   "cell_type": "markdown",
   "metadata": {
    "jupyter": {
     "source_hidden": true
    }
   },
   "source": [
    "Improvements: \n",
    "1. added batch_norm and dropout layers\n",
    "2. streamlined AE structure (using nn.Sequential autoencoder)\n",
    "3. added learning rate scheduler."
   ]
  },
  {
   "cell_type": "markdown",
   "metadata": {},
   "source": [
    "Data Loading:"
   ]
  },
  {
   "cell_type": "code",
   "execution_count": 10,
   "metadata": {
    "jupyter": {
     "source_hidden": true
    }
   },
   "outputs": [],
   "source": [
    "db = NISDatabase(DATA_FOLDER + 'NIS_2012_2014_proto_emb_red.h5', 'TRAIN', {})"
   ]
  },
  {
   "cell_type": "code",
   "execution_count": 11,
   "metadata": {
    "jupyter": {
     "source_hidden": true
    }
   },
   "outputs": [],
   "source": [
    "from utils.experiments import *\n",
    "from utils.feature_utils import calc_output_dims"
   ]
  },
  {
   "cell_type": "code",
   "execution_count": 12,
   "metadata": {
    "jupyter": {
     "source_hidden": true
    }
   },
   "outputs": [],
   "source": [
    "EMBEDDING_DICTIONARY = {\n",
    "    'DXn' : {\n",
    "        'header_prefix' : b'DX',\n",
    "        'num_classes' : 6202,\n",
    "        'dimensions' : 256,\n",
    "    },\n",
    "\n",
    "    'PRn' : {\n",
    "        'header_prefix' : b'PR',\n",
    "        'num_classes' : 3722,\n",
    "        'dimensions' : 64,\n",
    "    },\n",
    "\n",
    "    'ECODEn' : {\n",
    "        'header_prefix' : b'ECODE',\n",
    "        'num_classes' : 182,\n",
    "        'dimensions' : 32,\n",
    "    },\n",
    "\n",
    "    'CHRONBn' : {\n",
    "        'header_prefix' : b'CHRONB',\n",
    "        'num_classes' : 19,\n",
    "        'dimensions' : 16,\n",
    "    }\n",
    "}"
   ]
  },
  {
   "cell_type": "code",
   "execution_count": 13,
   "metadata": {
    "jupyter": {
     "source_hidden": true
    }
   },
   "outputs": [],
   "source": [
    "DEFAULT_BUILD = {\n",
    "\n",
    "    'encoding' : {\n",
    "        'total_layers' : 3,\n",
    "        'dimensions' : 256,\n",
    "        'activation' : 'leaky_relu',\n",
    "    },\n",
    "\n",
    "    'latent' : {'dimensions' : 32},\n",
    "\n",
    "    'decoding' : {\n",
    "        'dimensions' : 256,\n",
    "        'activation' : 'leaky_relu',\n",
    "        'total_layers' : 3,\n",
    "        'output_dims' : None\n",
    "    }\n",
    "}"
   ]
  },
  {
   "cell_type": "code",
   "execution_count": 15,
   "metadata": {
    "jupyter": {
     "source_hidden": true
    }
   },
   "outputs": [],
   "source": [
    "ONE_HOT_LIST = [b'ELECTIVE', b'FEMALE', b'HCUP_ED', b'TRAN_IN', b'ZIPINC_QRTL', b'AGE']\n",
    "ONE_HOTS = { feature.decode('utf-8') : {} for feature in ONE_HOT_LIST }\n",
    "\n",
    "ONE_HOTS['ELECTIVE']['num_classes'] = 2 # 0,1\n",
    "ONE_HOTS['FEMALE']['num_classes'] = 2 # 0,1\n",
    "ONE_HOTS['TRAN_IN']['num_classes'] = 3 # 0-2\n",
    "ONE_HOTS['HCUP_ED']['num_classes'] = 5 # 0-4\n",
    "ONE_HOTS['ZIPINC_QRTL']['num_classes'] = 5 # 1-4\n",
    "ONE_HOTS['AGE']['num_classes'] = 13 # 0-12 (must be allowed to guess in between as well)"
   ]
  },
  {
   "cell_type": "code",
   "execution_count": 16,
   "metadata": {
    "jupyter": {
     "source_hidden": true
    }
   },
   "outputs": [],
   "source": [
    "CONTINUOUS = {}"
   ]
  },
  {
   "cell_type": "code",
   "execution_count": 17,
   "metadata": {
    "jupyter": {
     "source_hidden": true
    }
   },
   "outputs": [],
   "source": [
    "FEATURE_REPRESENTATIONS = {}\n",
    "FEATURE_REPRESENTATIONS['embedding'] = EMBEDDING_DICTIONARY\n",
    "FEATURE_REPRESENTATIONS['one_hots'] = ONE_HOTS\n",
    "FEATURE_REPRESENTATIONS['continuous'] = CONTINUOUS\n",
    "\n",
    "DEFAULT_BUILD['features'] = FEATURE_REPRESENTATIONS\n",
    "\n",
    "find_nlike_features(db.headers, FEATURE_REPRESENTATIONS['embedding'])\n",
    "FEATURE_REPRESENTATIONS['one_hots'] = create_onehot_info(db, FEATURE_REPRESENTATIONS['one_hots'], FEATURE_REPRESENTATIONS['embedding'])\n",
    "DEFAULT_BUILD['features'] = FEATURE_REPRESENTATIONS\n",
    "calc_output_dims(DEFAULT_BUILD)"
   ]
  },
  {
   "cell_type": "markdown",
   "metadata": {},
   "source": [
    "Autoencoder Creation:"
   ]
  },
  {
   "cell_type": "code",
   "execution_count": 61,
   "metadata": {},
   "outputs": [],
   "source": [
    "from model.autoencoder.loss import CustomLoss\n",
    "from trainer.trainer import Trainer\n",
    "\n",
    "loss = CustomLoss()"
   ]
  },
  {
   "cell_type": "code",
   "execution_count": 53,
   "metadata": {},
   "outputs": [],
   "source": [
    "ae = AutoEncoder(DEFAULT_BUILD).to(device)\n",
    "ae.load_state('/home/aisinai/work/repos/nis_patient_encoding/experiments/train_ae_008/1586169923.pth')"
   ]
  },
  {
   "cell_type": "code",
   "execution_count": 54,
   "metadata": {},
   "outputs": [],
   "source": [
    "db_dl = torch.utils.data.DataLoader(db, batch_size=1028, pin_memory=True, num_workers=4)\n",
    "samp_batch = next(iter(db_dl))"
   ]
  },
  {
   "cell_type": "code",
   "execution_count": 56,
   "metadata": {},
   "outputs": [],
   "source": [
    "trainer = Trainer(ae, loss, 5e-4, db_dl, device)"
   ]
  },
  {
   "cell_type": "code",
   "execution_count": 57,
   "metadata": {},
   "outputs": [
    {
     "name": "stderr",
     "output_type": "stream",
     "text": [
      "/opt/conda/lib/python3.6/site-packages/torch/nn/functional.py:1358: UserWarning: nn.functional.sigmoid is deprecated. Use torch.sigmoid instead.\n",
      "  warnings.warn(\"nn.functional.sigmoid is deprecated. Use torch.sigmoid instead.\")\n"
     ]
    }
   ],
   "source": [
    "recons, targets = ae.predict(samp_batch)"
   ]
  },
  {
   "cell_type": "code",
   "execution_count": 104,
   "metadata": {},
   "outputs": [
    {
     "name": "stdout",
     "output_type": "stream",
     "text": [
      "Feature: DXn :: Accuracy: 70.34%\n",
      "Feature: PRn :: Accuracy: 88.81%\n",
      "Feature: ECODEn :: Accuracy: 99.95%\n",
      "Feature: CHRONBn :: Accuracy: 100.00%\n",
      "Feature: ELECTIVE :: Accuracy: 100.00%\n",
      "Feature: FEMALE :: Accuracy: 100.00%\n",
      "Feature: HCUP_ED :: Accuracy: 100.00%\n",
      "Feature: TRAN_IN :: Accuracy: 100.00%\n",
      "Feature: ZIPINC_QRTL :: Accuracy: 100.00%\n",
      "Feature: AGE :: Accuracy: 99.67%\n"
     ]
    }
   ],
   "source": [
    "trainer.accuracy = {}\n",
    "trainer.get_accuracy(recons, targets)\n",
    "\n",
    "for feature, accuracy in trainer.accuracy.items():\n",
    "    print(\"Feature: {0} :: Accuracy: {1:.02f}%\".format(feature, accuracy * 100))\n"
   ]
  },
  {
   "cell_type": "markdown",
   "metadata": {},
   "source": [
    "#### Latent Space Exploration"
   ]
  },
  {
   "cell_type": "code",
   "execution_count": 71,
   "metadata": {},
   "outputs": [],
   "source": [
    "latent_space = ae.latent_representation(samp_batch).detach()"
   ]
  },
  {
   "cell_type": "code",
   "execution_count": 74,
   "metadata": {},
   "outputs": [],
   "source": [
    "from sklearn.manifold import TSNE\n",
    "latent_space_embedded = TSNE(n_components=2)"
   ]
  },
  {
   "cell_type": "code",
   "execution_count": 75,
   "metadata": {},
   "outputs": [
    {
     "data": {
      "text/plain": [
       "TSNE(angle=0.5, early_exaggeration=12.0, init='random', learning_rate=200.0,\n",
       "     method='barnes_hut', metric='euclidean', min_grad_norm=1e-07,\n",
       "     n_components=2, n_iter=1000, n_iter_without_progress=300, n_jobs=None,\n",
       "     perplexity=30.0, random_state=None, verbose=0)"
      ]
     },
     "execution_count": 75,
     "metadata": {},
     "output_type": "execute_result"
    }
   ],
   "source": [
    "latent_space_embedded.fit(latent_space)"
   ]
  },
  {
   "cell_type": "code",
   "execution_count": 76,
   "metadata": {},
   "outputs": [
    {
     "data": {
      "text/plain": [
       "array([[-17.100409  ,  32.538326  ],\n",
       "       [ -0.10317767,   3.9123917 ],\n",
       "       [-21.39461   , -13.734325  ],\n",
       "       ...,\n",
       "       [ -3.0478516 ,  31.598774  ],\n",
       "       [-11.695884  , -22.259556  ],\n",
       "       [ 25.28815   , -18.134932  ]], dtype=float32)"
      ]
     },
     "execution_count": 76,
     "metadata": {},
     "output_type": "execute_result"
    }
   ],
   "source": [
    "latent_space_embedded.embedding_"
   ]
  },
  {
   "cell_type": "code",
   "execution_count": 93,
   "metadata": {},
   "outputs": [
    {
     "data": {
      "text/plain": [
       "[Text(0.5, 1.0, 'TSNE')]"
      ]
     },
     "execution_count": 93,
     "metadata": {},
     "output_type": "execute_result"
    },
    {
     "data": {
      "image/png": "[encoded data removed]",
      "text/plain": [
       "<Figure size 432x288 with 1 Axes>"
      ]
     },
     "metadata": {},
     "output_type": "display_data"
    }
   ],
   "source": [
    "sns.set(style=\"whitegrid\")\n",
    "sns.scatterplot(*latent_space_embedded.embedding_.T).set(title='TSNE')"
   ]
  },
  {
   "cell_type": "code",
   "execution_count": 85,
   "metadata": {},
   "outputs": [],
   "source": [
    "from sklearn.decomposition import PCA\n",
    "latent_space_pca = PCA(n_components=2)"
   ]
  },
  {
   "cell_type": "code",
   "execution_count": 86,
   "metadata": {},
   "outputs": [
    {
     "data": {
      "text/plain": [
       "PCA(copy=True, iterated_power='auto', n_components=2, random_state=None,\n",
       "    svd_solver='auto', tol=0.0, whiten=False)"
      ]
     },
     "execution_count": 86,
     "metadata": {},
     "output_type": "execute_result"
    }
   ],
   "source": [
    "latent_space_pca.fit(latent_space)"
   ]
  },
  {
   "cell_type": "code",
   "execution_count": 94,
   "metadata": {},
   "outputs": [
    {
     "data": {
      "text/plain": [
       "[Text(0.5, 1.0, 'PCA')]"
      ]
     },
     "execution_count": 94,
     "metadata": {},
     "output_type": "execute_result"
    },
    {
     "data": {
      "image/png": "[encoded data removed]",
      "text/plain": [
       "<Figure size 432x288 with 1 Axes>"
      ]
     },
     "metadata": {},
     "output_type": "display_data"
    }
   ],
   "source": [
    "sns.set(style=\"whitegrid\")\n",
    "sns.scatterplot(*latent_space_pca.transform(latent_space).T).set(title='PCA')"
   ]
  },
  {
   "cell_type": "markdown",
   "metadata": {},
   "source": [
    "### Autoencoder 4.0"
   ]
  },
  {
   "cell_type": "markdown",
   "metadata": {
    "jupyter": {
     "source_hidden": true
    }
   },
   "source": [
    "Improvements: \n",
    "1. conical architecture"
   ]
  },
  {
   "cell_type": "markdown",
   "metadata": {},
   "source": [
    "Data Loading:"
   ]
  },
  {
   "cell_type": "code",
   "execution_count": 241,
   "metadata": {
    "jupyter": {
     "source_hidden": true
    }
   },
   "outputs": [],
   "source": [
    "db = NISDatabase(DATA_FOLDER + 'NIS_2012_2014_proto_emb_red.h5', 'TRAIN', {})"
   ]
  },
  {
   "cell_type": "code",
   "execution_count": 11,
   "metadata": {
    "jupyter": {
     "source_hidden": true
    }
   },
   "outputs": [],
   "source": [
    "from utils.experiments import *\n",
    "from utils.feature_utils import calc_output_dims"
   ]
  },
  {
   "cell_type": "code",
   "execution_count": 12,
   "metadata": {
    "jupyter": {
     "source_hidden": true
    }
   },
   "outputs": [],
   "source": [
    "EMBEDDING_DICTIONARY = {\n",
    "    'DXn' : {\n",
    "        'header_prefix' : b'DX',\n",
    "        'num_classes' : 6202,\n",
    "        'dimensions' : 256,\n",
    "    },\n",
    "\n",
    "    'PRn' : {\n",
    "        'header_prefix' : b'PR',\n",
    "        'num_classes' : 3722,\n",
    "        'dimensions' : 64,\n",
    "    },\n",
    "\n",
    "    'ECODEn' : {\n",
    "        'header_prefix' : b'ECODE',\n",
    "        'num_classes' : 182,\n",
    "        'dimensions' : 32,\n",
    "    },\n",
    "\n",
    "    'CHRONBn' : {\n",
    "        'header_prefix' : b'CHRONB',\n",
    "        'num_classes' : 19,\n",
    "        'dimensions' : 16,\n",
    "    }\n",
    "}"
   ]
  },
  {
   "cell_type": "code",
   "execution_count": 117,
   "metadata": {
    "jupyter": {
     "source_hidden": true
    }
   },
   "outputs": [],
   "source": [
    "DEFAULT_BUILD = {\n",
    "    'encoding' : {\n",
    "        'total_layers' : 3,\n",
    "        'scale' : 2,\n",
    "        'activation' : 'leaky_relu',\n",
    "    },\n",
    "\n",
    "    'latent' : {'dimensions' : 32},\n",
    "\n",
    "    'decoding' : {\n",
    "        'scale' : 2,\n",
    "        'activation' : 'leaky_relu',\n",
    "        'total_layers' : 3,\n",
    "        'output_dims' : None\n",
    "    }\n",
    "}\n"
   ]
  },
  {
   "cell_type": "code",
   "execution_count": 118,
   "metadata": {
    "jupyter": {
     "source_hidden": true
    }
   },
   "outputs": [],
   "source": [
    "ONE_HOT_LIST = [b'ELECTIVE', b'FEMALE', b'HCUP_ED', b'TRAN_IN', b'ZIPINC_QRTL', b'AGE']\n",
    "ONE_HOTS = { feature.decode('utf-8') : {} for feature in ONE_HOT_LIST }\n",
    "\n",
    "ONE_HOTS['ELECTIVE']['num_classes'] = 2 # 0,1\n",
    "ONE_HOTS['FEMALE']['num_classes'] = 2 # 0,1\n",
    "ONE_HOTS['TRAN_IN']['num_classes'] = 3 # 0-2\n",
    "ONE_HOTS['HCUP_ED']['num_classes'] = 5 # 0-4\n",
    "ONE_HOTS['ZIPINC_QRTL']['num_classes'] = 5 # 1-4\n",
    "ONE_HOTS['AGE']['num_classes'] = 13 # 0-12 (must be allowed to guess in between as well)"
   ]
  },
  {
   "cell_type": "code",
   "execution_count": 119,
   "metadata": {
    "jupyter": {
     "source_hidden": true
    }
   },
   "outputs": [],
   "source": [
    "CONTINUOUS = {}"
   ]
  },
  {
   "cell_type": "code",
   "execution_count": 120,
   "metadata": {
    "jupyter": {
     "source_hidden": true
    }
   },
   "outputs": [],
   "source": [
    "FEATURE_REPRESENTATIONS = {}\n",
    "FEATURE_REPRESENTATIONS['embedding'] = EMBEDDING_DICTIONARY\n",
    "FEATURE_REPRESENTATIONS['one_hots'] = ONE_HOTS\n",
    "FEATURE_REPRESENTATIONS['continuous'] = CONTINUOUS\n",
    "\n",
    "DEFAULT_BUILD['features'] = FEATURE_REPRESENTATIONS\n",
    "\n",
    "find_nlike_features(db.headers, FEATURE_REPRESENTATIONS['embedding'])\n",
    "FEATURE_REPRESENTATIONS['one_hots'] = create_onehot_info(db, FEATURE_REPRESENTATIONS['one_hots'], FEATURE_REPRESENTATIONS['embedding'])\n",
    "DEFAULT_BUILD['features'] = FEATURE_REPRESENTATIONS\n",
    "calc_output_dims(DEFAULT_BUILD)"
   ]
  },
  {
   "cell_type": "markdown",
   "metadata": {},
   "source": [
    "Autoencoder Creation:"
   ]
  },
  {
   "cell_type": "code",
   "execution_count": 124,
   "metadata": {},
   "outputs": [],
   "source": [
    "ae = AutoEncoder(DEFAULT_BUILD).to(device)\n",
    "# ae.load_state('/home/aisinai/work/repos/nis_patient_encoding/experiments/train_ae_008/1586169923.pth')"
   ]
  },
  {
   "cell_type": "code",
   "execution_count": 125,
   "metadata": {
    "collapsed": true,
    "jupyter": {
     "outputs_hidden": true
    }
   },
   "outputs": [
    {
     "data": {
      "text/plain": [
       "AutoEncoder(\n",
       "  (model): ModuleDict(\n",
       "    (embeddings): ModuleDict(\n",
       "      (DXn): Embedding(6202, 256)\n",
       "      (PRn): Embedding(3722, 64)\n",
       "      (ECODEn): Embedding(182, 32)\n",
       "      (CHRONBn): Embedding(19, 16)\n",
       "    )\n",
       "    (autoencoder): Sequential(\n",
       "      (encoder): Sequential(\n",
       "        (0): Sequential(\n",
       "          (0): Linear(in_features=9278, out_features=256, bias=True)\n",
       "          (1): LeakyReLU(negative_slope=0.01, inplace=True)\n",
       "          (2): BatchNorm1d(256, eps=1e-05, momentum=0.1, affine=True, track_running_stats=True)\n",
       "          (3): Dropout(p=0.0, inplace=False)\n",
       "        )\n",
       "        (1): Sequential(\n",
       "          (0): Linear(in_features=256, out_features=128, bias=True)\n",
       "          (1): LeakyReLU(negative_slope=0.01, inplace=True)\n",
       "          (2): BatchNorm1d(128, eps=1e-05, momentum=0.1, affine=True, track_running_stats=True)\n",
       "          (3): Dropout(p=0.0, inplace=False)\n",
       "        )\n",
       "        (2): Sequential(\n",
       "          (0): Linear(in_features=128, out_features=64, bias=True)\n",
       "          (1): LeakyReLU(negative_slope=0.01, inplace=True)\n",
       "          (2): BatchNorm1d(64, eps=1e-05, momentum=0.1, affine=True, track_running_stats=True)\n",
       "          (3): Dropout(p=0.0, inplace=False)\n",
       "        )\n",
       "        (3): Sequential(\n",
       "          (0): Linear(in_features=64, out_features=32, bias=True)\n",
       "          (1): LeakyReLU(negative_slope=0.01, inplace=True)\n",
       "          (2): BatchNorm1d(32, eps=1e-05, momentum=0.1, affine=True, track_running_stats=True)\n",
       "          (3): Dropout(p=0.0, inplace=False)\n",
       "        )\n",
       "      )\n",
       "      (decoder): Sequential(\n",
       "        (0): Sequential(\n",
       "          (0): Linear(in_features=32, out_features=64, bias=True)\n",
       "          (1): LeakyReLU(negative_slope=0.01, inplace=True)\n",
       "          (2): BatchNorm1d(64, eps=1e-05, momentum=0.1, affine=True, track_running_stats=True)\n",
       "          (3): Dropout(p=0.0, inplace=False)\n",
       "        )\n",
       "        (1): Sequential(\n",
       "          (0): Linear(in_features=64, out_features=128, bias=True)\n",
       "          (1): LeakyReLU(negative_slope=0.01, inplace=True)\n",
       "          (2): BatchNorm1d(128, eps=1e-05, momentum=0.1, affine=True, track_running_stats=True)\n",
       "          (3): Dropout(p=0.0, inplace=False)\n",
       "        )\n",
       "        (2): Sequential(\n",
       "          (0): Linear(in_features=128, out_features=256, bias=True)\n",
       "          (1): LeakyReLU(negative_slope=0.01, inplace=True)\n",
       "          (2): BatchNorm1d(256, eps=1e-05, momentum=0.1, affine=True, track_running_stats=True)\n",
       "          (3): Dropout(p=0.0, inplace=False)\n",
       "        )\n",
       "        (3): Sequential(\n",
       "          (0): Linear(in_features=256, out_features=9278, bias=True)\n",
       "          (1): LeakyReLU(negative_slope=0.01, inplace=True)\n",
       "          (2): BatchNorm1d(9278, eps=1e-05, momentum=0.1, affine=True, track_running_stats=True)\n",
       "          (3): Dropout(p=0.0, inplace=False)\n",
       "        )\n",
       "      )\n",
       "    )\n",
       "    (reconstruction): ModuleDict(\n",
       "      (DXn): Linear(in_features=9278, out_features=6202, bias=True)\n",
       "      (PRn): Linear(in_features=9278, out_features=3722, bias=True)\n",
       "      (ECODEn): Linear(in_features=9278, out_features=182, bias=True)\n",
       "      (CHRONBn): Linear(in_features=9278, out_features=19, bias=True)\n",
       "      (ELECTIVE): Linear(in_features=9278, out_features=2, bias=True)\n",
       "      (FEMALE): Linear(in_features=9278, out_features=2, bias=True)\n",
       "      (HCUP_ED): Linear(in_features=9278, out_features=5, bias=True)\n",
       "      (TRAN_IN): Linear(in_features=9278, out_features=3, bias=True)\n",
       "      (ZIPINC_QRTL): Linear(in_features=9278, out_features=5, bias=True)\n",
       "      (AGE): Linear(in_features=9278, out_features=13, bias=True)\n",
       "    )\n",
       "  )\n",
       ")"
      ]
     },
     "execution_count": 125,
     "metadata": {},
     "output_type": "execute_result"
    }
   ],
   "source": [
    "ae"
   ]
  },
  {
   "cell_type": "code",
   "execution_count": 54,
   "metadata": {
    "jupyter": {
     "source_hidden": true
    }
   },
   "outputs": [],
   "source": [
    "db_dl = torch.utils.data.DataLoader(db, batch_size=512, pin_memory=True, num_workers=4)\n",
    "samp_batch = next(iter(db_dl))"
   ]
  },
  {
   "cell_type": "code",
   "execution_count": 57,
   "metadata": {
    "collapsed": true,
    "jupyter": {
     "outputs_hidden": true,
     "source_hidden": true
    }
   },
   "outputs": [
    {
     "name": "stderr",
     "output_type": "stream",
     "text": [
      "/opt/conda/lib/python3.6/site-packages/torch/nn/functional.py:1358: UserWarning: nn.functional.sigmoid is deprecated. Use torch.sigmoid instead.\n",
      "  warnings.warn(\"nn.functional.sigmoid is deprecated. Use torch.sigmoid instead.\")\n"
     ]
    }
   ],
   "source": [
    "recons, targets = ae.predict(samp_batch)"
   ]
  },
  {
   "cell_type": "code",
   "execution_count": 61,
   "metadata": {
    "jupyter": {
     "source_hidden": true
    }
   },
   "outputs": [],
   "source": [
    "from model.autoencoder.loss import CustomLoss\n",
    "from trainer.trainer import Trainer\n",
    "\n",
    "loss = CustomLoss()"
   ]
  },
  {
   "cell_type": "code",
   "execution_count": 56,
   "metadata": {
    "jupyter": {
     "source_hidden": true
    }
   },
   "outputs": [],
   "source": [
    "trainer = Trainer(ae, loss, 5e-4, db_dl, device)"
   ]
  }
 ],
 "metadata": {
  "kernelspec": {
   "display_name": "Python 3",
   "language": "python",
   "name": "python3"
  },
  "language_info": {
   "codemirror_mode": {
    "name": "ipython",
    "version": 3
   },
   "file_extension": ".py",
   "mimetype": "text/x-python",
   "name": "python",
   "nbconvert_exporter": "python",
   "pygments_lexer": "ipython3",
   "version": "3.6.10"
  }
 },
 "nbformat": 4,
 "nbformat_minor": 4
}
